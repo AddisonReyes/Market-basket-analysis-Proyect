{
 "cells": [
  {
   "cell_type": "code",
   "execution_count": 2,
   "metadata": {},
   "outputs": [],
   "source": [
    "from efficient_apriori import apriori"
   ]
  },
  {
   "cell_type": "code",
   "execution_count": 3,
   "metadata": {},
   "outputs": [],
   "source": [
    "facturas = [('Queso Mozzarella', 'Galletas', 'Nachos', 'Pan', 'Refresco', 'Salsa'),\n",
    "            ('Queso Mozzarella', 'Refresco', 'Pan'),\n",
    "            ('Cerveza', 'Refresco', 'Nachos', 'Salsa'),\n",
    "            ('Nachos'),\n",
    "            ('Nachos', 'Refresco', 'Salsa'),\n",
    "            ('Salsa', 'Nachos', 'Galletas'),\n",
    "            ('Queso Crema', 'Queso Mozzarella', 'Pan'),\n",
    "            ('Jugo', 'Refresco', 'Cerveza'),\n",
    "            ('Pan', 'Queso Crema', 'Galletas'),\n",
    "            ('Galletas', 'Jugo'),\n",
    "            ('Queso Crema', 'Jugo', 'Refresco', 'Cerveza', 'Galletas'),\n",
    "            ('Jugo, Galletas', 'Salsa', 'Queso Crema', 'Nachos'),\n",
    "            ('Nachos', 'Salsa', 'Queso Crema'),\n",
    "            ('Queso Mozzarella', 'Queso Crema', 'Cerveza'),\n",
    "            ('Nachos', 'Salsa')]"
   ]
  },
  {
   "cell_type": "code",
   "execution_count": 9,
   "metadata": {},
   "outputs": [],
   "source": [
    "#•\tEl support mínimo es de 30%\n",
    "#•\tEl confidence mínimo es de 60%\n",
    "\n",
    "itemsets, rules = apriori(facturas, min_support=0.3, min_confidence=0.6)"
   ]
  },
  {
   "cell_type": "code",
   "execution_count": 10,
   "metadata": {},
   "outputs": [
    {
     "name": "stdout",
     "output_type": "stream",
     "text": [
      "[{Salsa} -> {Nachos}, {Nachos} -> {Salsa}]\n"
     ]
    }
   ],
   "source": [
    "print(rules)"
   ]
  }
 ],
 "metadata": {
  "kernelspec": {
   "display_name": "venv",
   "language": "python",
   "name": "python3"
  },
  "language_info": {
   "codemirror_mode": {
    "name": "ipython",
    "version": 3
   },
   "file_extension": ".py",
   "mimetype": "text/x-python",
   "name": "python",
   "nbconvert_exporter": "python",
   "pygments_lexer": "ipython3",
   "version": "3.10.9"
  },
  "orig_nbformat": 4
 },
 "nbformat": 4,
 "nbformat_minor": 2
}
