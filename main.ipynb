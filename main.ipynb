{
 "cells": [
  {
   "attachments": {},
   "cell_type": "markdown",
   "metadata": {},
   "source": [
    "Dataset: https://www.kaggle.com/datasets/ahmtcnbs/datasets-for-appiori"
   ]
  },
  {
   "cell_type": "code",
   "execution_count": 1,
   "metadata": {},
   "outputs": [],
   "source": [
    "from efficient_apriori import apriori\n",
    "import pandas as pd"
   ]
  },
  {
   "cell_type": "code",
   "execution_count": 2,
   "metadata": {},
   "outputs": [],
   "source": [
    "df = pd.read_csv('basket_analysis.csv')"
   ]
  },
  {
   "cell_type": "code",
   "execution_count": 3,
   "metadata": {},
   "outputs": [
    {
     "data": {
      "text/html": [
       "<div>\n",
       "<style scoped>\n",
       "    .dataframe tbody tr th:only-of-type {\n",
       "        vertical-align: middle;\n",
       "    }\n",
       "\n",
       "    .dataframe tbody tr th {\n",
       "        vertical-align: top;\n",
       "    }\n",
       "\n",
       "    .dataframe thead th {\n",
       "        text-align: right;\n",
       "    }\n",
       "</style>\n",
       "<table border=\"1\" class=\"dataframe\">\n",
       "  <thead>\n",
       "    <tr style=\"text-align: right;\">\n",
       "      <th></th>\n",
       "      <th>Apple</th>\n",
       "      <th>Bread</th>\n",
       "      <th>Butter</th>\n",
       "      <th>Cheese</th>\n",
       "      <th>Corn</th>\n",
       "      <th>Dill</th>\n",
       "      <th>Eggs</th>\n",
       "      <th>Ice cream</th>\n",
       "      <th>Kidney Beans</th>\n",
       "      <th>Milk</th>\n",
       "      <th>Nutmeg</th>\n",
       "      <th>Onion</th>\n",
       "      <th>Sugar</th>\n",
       "      <th>Unicorn</th>\n",
       "      <th>Yogurt</th>\n",
       "      <th>chocolate</th>\n",
       "    </tr>\n",
       "  </thead>\n",
       "  <tbody>\n",
       "    <tr>\n",
       "      <th>0</th>\n",
       "      <td>False</td>\n",
       "      <td>True</td>\n",
       "      <td>False</td>\n",
       "      <td>False</td>\n",
       "      <td>True</td>\n",
       "      <td>True</td>\n",
       "      <td>False</td>\n",
       "      <td>True</td>\n",
       "      <td>False</td>\n",
       "      <td>False</td>\n",
       "      <td>False</td>\n",
       "      <td>False</td>\n",
       "      <td>True</td>\n",
       "      <td>False</td>\n",
       "      <td>True</td>\n",
       "      <td>True</td>\n",
       "    </tr>\n",
       "    <tr>\n",
       "      <th>1</th>\n",
       "      <td>False</td>\n",
       "      <td>False</td>\n",
       "      <td>False</td>\n",
       "      <td>False</td>\n",
       "      <td>False</td>\n",
       "      <td>False</td>\n",
       "      <td>False</td>\n",
       "      <td>False</td>\n",
       "      <td>False</td>\n",
       "      <td>True</td>\n",
       "      <td>False</td>\n",
       "      <td>False</td>\n",
       "      <td>False</td>\n",
       "      <td>False</td>\n",
       "      <td>False</td>\n",
       "      <td>False</td>\n",
       "    </tr>\n",
       "    <tr>\n",
       "      <th>2</th>\n",
       "      <td>True</td>\n",
       "      <td>False</td>\n",
       "      <td>True</td>\n",
       "      <td>False</td>\n",
       "      <td>False</td>\n",
       "      <td>True</td>\n",
       "      <td>False</td>\n",
       "      <td>True</td>\n",
       "      <td>False</td>\n",
       "      <td>True</td>\n",
       "      <td>False</td>\n",
       "      <td>False</td>\n",
       "      <td>False</td>\n",
       "      <td>False</td>\n",
       "      <td>True</td>\n",
       "      <td>True</td>\n",
       "    </tr>\n",
       "    <tr>\n",
       "      <th>3</th>\n",
       "      <td>False</td>\n",
       "      <td>False</td>\n",
       "      <td>True</td>\n",
       "      <td>True</td>\n",
       "      <td>False</td>\n",
       "      <td>True</td>\n",
       "      <td>False</td>\n",
       "      <td>False</td>\n",
       "      <td>False</td>\n",
       "      <td>True</td>\n",
       "      <td>True</td>\n",
       "      <td>True</td>\n",
       "      <td>False</td>\n",
       "      <td>False</td>\n",
       "      <td>False</td>\n",
       "      <td>False</td>\n",
       "    </tr>\n",
       "    <tr>\n",
       "      <th>4</th>\n",
       "      <td>True</td>\n",
       "      <td>True</td>\n",
       "      <td>False</td>\n",
       "      <td>False</td>\n",
       "      <td>False</td>\n",
       "      <td>False</td>\n",
       "      <td>False</td>\n",
       "      <td>False</td>\n",
       "      <td>False</td>\n",
       "      <td>False</td>\n",
       "      <td>False</td>\n",
       "      <td>False</td>\n",
       "      <td>False</td>\n",
       "      <td>False</td>\n",
       "      <td>False</td>\n",
       "      <td>False</td>\n",
       "    </tr>\n",
       "    <tr>\n",
       "      <th>5</th>\n",
       "      <td>True</td>\n",
       "      <td>True</td>\n",
       "      <td>True</td>\n",
       "      <td>True</td>\n",
       "      <td>False</td>\n",
       "      <td>True</td>\n",
       "      <td>False</td>\n",
       "      <td>True</td>\n",
       "      <td>False</td>\n",
       "      <td>False</td>\n",
       "      <td>True</td>\n",
       "      <td>False</td>\n",
       "      <td>False</td>\n",
       "      <td>True</td>\n",
       "      <td>True</td>\n",
       "      <td>True</td>\n",
       "    </tr>\n",
       "  </tbody>\n",
       "</table>\n",
       "</div>"
      ],
      "text/plain": [
       "   Apple  Bread  Butter  Cheese   Corn   Dill   Eggs  Ice cream  Kidney Beans   \n",
       "0  False   True   False   False   True   True  False       True         False  \\\n",
       "1  False  False   False   False  False  False  False      False         False   \n",
       "2   True  False    True   False  False   True  False       True         False   \n",
       "3  False  False    True    True  False   True  False      False         False   \n",
       "4   True   True   False   False  False  False  False      False         False   \n",
       "5   True   True    True    True  False   True  False       True         False   \n",
       "\n",
       "    Milk  Nutmeg  Onion  Sugar  Unicorn  Yogurt  chocolate  \n",
       "0  False   False  False   True    False    True       True  \n",
       "1   True   False  False  False    False   False      False  \n",
       "2   True   False  False  False    False    True       True  \n",
       "3   True    True   True  False    False   False      False  \n",
       "4  False   False  False  False    False   False      False  \n",
       "5  False    True  False  False     True    True       True  "
      ]
     },
     "execution_count": 3,
     "metadata": {},
     "output_type": "execute_result"
    }
   ],
   "source": [
    "df = df.iloc[:, 1:]\n",
    "df.head(6)"
   ]
  },
  {
   "cell_type": "code",
   "execution_count": 4,
   "metadata": {},
   "outputs": [
    {
     "name": "stdout",
     "output_type": "stream",
     "text": [
      "<class 'pandas.core.frame.DataFrame'>\n",
      "RangeIndex: 999 entries, 0 to 998\n",
      "Data columns (total 16 columns):\n",
      " #   Column        Non-Null Count  Dtype\n",
      "---  ------        --------------  -----\n",
      " 0   Apple         999 non-null    bool \n",
      " 1   Bread         999 non-null    bool \n",
      " 2   Butter        999 non-null    bool \n",
      " 3   Cheese        999 non-null    bool \n",
      " 4   Corn          999 non-null    bool \n",
      " 5   Dill          999 non-null    bool \n",
      " 6   Eggs          999 non-null    bool \n",
      " 7   Ice cream     999 non-null    bool \n",
      " 8   Kidney Beans  999 non-null    bool \n",
      " 9   Milk          999 non-null    bool \n",
      " 10  Nutmeg        999 non-null    bool \n",
      " 11  Onion         999 non-null    bool \n",
      " 12  Sugar         999 non-null    bool \n",
      " 13  Unicorn       999 non-null    bool \n",
      " 14  Yogurt        999 non-null    bool \n",
      " 15  chocolate     999 non-null    bool \n",
      "dtypes: bool(16)\n",
      "memory usage: 15.7 KB\n"
     ]
    }
   ],
   "source": [
    "df.info()"
   ]
  },
  {
   "cell_type": "code",
   "execution_count": 5,
   "metadata": {},
   "outputs": [
    {
     "data": {
      "text/plain": [
       "Apple           False\n",
       "Bread           False\n",
       "Butter          False\n",
       "Cheese          False\n",
       "Corn            False\n",
       "Dill            False\n",
       "Eggs            False\n",
       "Ice cream       False\n",
       "Kidney Beans    False\n",
       "Milk            False\n",
       "Nutmeg          False\n",
       "Onion           False\n",
       "Sugar           False\n",
       "Unicorn         False\n",
       "Yogurt          False\n",
       "chocolate       False\n",
       "dtype: bool"
      ]
     },
     "execution_count": 5,
     "metadata": {},
     "output_type": "execute_result"
    }
   ],
   "source": [
    "df.isna().any()"
   ]
  },
  {
   "cell_type": "code",
   "execution_count": 6,
   "metadata": {},
   "outputs": [],
   "source": [
    "facturas = [tuple(df.columns[df.iloc[i].values]) for i in range(len(df))]"
   ]
  },
  {
   "cell_type": "code",
   "execution_count": 7,
   "metadata": {},
   "outputs": [
    {
     "name": "stdout",
     "output_type": "stream",
     "text": [
      "('Bread', 'Corn', 'Dill', 'Ice cream', 'Sugar', 'Yogurt', 'chocolate')\n",
      "('Milk',)\n",
      "('Apple', 'Butter', 'Dill', 'Ice cream', 'Milk', 'Yogurt', 'chocolate')\n",
      "('Butter', 'Cheese', 'Dill', 'Milk', 'Nutmeg', 'Onion')\n",
      "('Apple', 'Bread')\n",
      "('Apple', 'Bread', 'Butter', 'Cheese', 'Dill', 'Ice cream', 'Nutmeg', 'Unicorn', 'Yogurt', 'chocolate')\n"
     ]
    }
   ],
   "source": [
    "for i in range(6):\n",
    "    print(facturas[i])"
   ]
  },
  {
   "cell_type": "code",
   "execution_count": 8,
   "metadata": {},
   "outputs": [],
   "source": [
    "itemsets, rules = apriori(facturas, min_support=0.2, min_confidence=0.4)"
   ]
  },
  {
   "cell_type": "code",
   "execution_count": 9,
   "metadata": {},
   "outputs": [
    {
     "name": "stdout",
     "output_type": "stream",
     "text": [
      "{Ice cream} -> {Butter} (conf: 0.505, supp: 0.207, lift: 1.201, conv: 1.171)\n",
      "{Butter} -> {Ice cream} (conf: 0.493, supp: 0.207, lift: 1.201, conv: 1.163)\n",
      "{Kidney Beans} -> {Butter} (conf: 0.495, supp: 0.202, lift: 1.178, conv: 1.148)\n",
      "{Butter} -> {Kidney Beans} (conf: 0.481, supp: 0.202, lift: 1.178, conv: 1.140)\n",
      "{chocolate} -> {Butter} (conf: 0.480, supp: 0.202, lift: 1.141, conv: 1.114)\n",
      "{Butter} -> {chocolate} (conf: 0.481, supp: 0.202, lift: 1.141, conv: 1.115)\n",
      "{Kidney Beans} -> {Cheese} (conf: 0.490, supp: 0.200, lift: 1.212, conv: 1.168)\n",
      "{Cheese} -> {Kidney Beans} (conf: 0.495, supp: 0.200, lift: 1.212, conv: 1.172)\n",
      "{chocolate} -> {Ice cream} (conf: 0.480, supp: 0.202, lift: 1.169, conv: 1.133)\n",
      "{Ice cream} -> {chocolate} (conf: 0.493, supp: 0.202, lift: 1.169, conv: 1.140)\n",
      "{chocolate} -> {Milk} (conf: 0.501, supp: 0.211, lift: 1.236, conv: 1.192)\n",
      "{Milk} -> {chocolate} (conf: 0.521, supp: 0.211, lift: 1.236, conv: 1.208)\n"
     ]
    }
   ],
   "source": [
    "for rule in rules:\n",
    "    print(rule)"
   ]
  },
  {
   "cell_type": "code",
   "execution_count": 10,
   "metadata": {},
   "outputs": [
    {
     "data": {
      "text/plain": [
       "{1: {('Bread',): 384,\n",
       "  ('Corn',): 407,\n",
       "  ('Dill',): 398,\n",
       "  ('Ice cream',): 410,\n",
       "  ('Sugar',): 409,\n",
       "  ('Yogurt',): 420,\n",
       "  ('chocolate',): 421,\n",
       "  ('Milk',): 405,\n",
       "  ('Apple',): 383,\n",
       "  ('Butter',): 420,\n",
       "  ('Cheese',): 404,\n",
       "  ('Nutmeg',): 401,\n",
       "  ('Onion',): 403,\n",
       "  ('Unicorn',): 389,\n",
       "  ('Eggs',): 384,\n",
       "  ('Kidney Beans',): 408},\n",
       " 2: {('Butter', 'Ice cream'): 207,\n",
       "  ('Butter', 'Kidney Beans'): 202,\n",
       "  ('Butter', 'chocolate'): 202,\n",
       "  ('Cheese', 'Kidney Beans'): 200,\n",
       "  ('Ice cream', 'chocolate'): 202,\n",
       "  ('Milk', 'chocolate'): 211}}"
      ]
     },
     "execution_count": 10,
     "metadata": {},
     "output_type": "execute_result"
    }
   ],
   "source": [
    "itemsets"
   ]
  }
 ],
 "metadata": {
  "kernelspec": {
   "display_name": "venv",
   "language": "python",
   "name": "python3"
  },
  "language_info": {
   "codemirror_mode": {
    "name": "ipython",
    "version": 3
   },
   "file_extension": ".py",
   "mimetype": "text/x-python",
   "name": "python",
   "nbconvert_exporter": "python",
   "pygments_lexer": "ipython3",
   "version": "3.10.9"
  },
  "orig_nbformat": 4
 },
 "nbformat": 4,
 "nbformat_minor": 2
}
